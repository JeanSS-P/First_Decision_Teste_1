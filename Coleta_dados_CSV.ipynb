{
 "cells": [
  {
   "cell_type": "code",
   "execution_count": 1,
   "metadata": {},
   "outputs": [],
   "source": [
    "import pandas as pd\n",
    "import numpy as np\n"
   ]
  },
  {
   "cell_type": "code",
   "execution_count": null,
   "metadata": {},
   "outputs": [],
   "source": [
    "# Função para criar dados sintéticos\n",
    "def create_synthetic_data(num_files=5, num_rows_per_file=100):\n",
    "\n",
    "    regions = ['Minas Gerais', 'Rio de Janeiro', 'São Paulo', 'Oeste']\n",
    "\n",
    "    p = pd.date_range(start='2024-01-01', periods=num_rows_per_file, freq='D')\n",
    "    \n",
    "    for i in range(num_files):\n",
    "        data = {\n",
    "            'Data': np.random.choice(dates, num_rows_per_file),\n",
    "            'Região': np.random.choice(regions, num_rows_per_file),\n",
    "            'Vendas': np.random.randint(100, 1000, num_rows_per_file)\n",
    "        }\n",
    "        df = pd.DataFrame(data)\n",
    "        df.to_csv(f'synthetic_data_{i}.csv', index=False)\n",
    "\n",
    "# Criar dados sintéticos\n",
    "create_synthetic_data()"
   ]
  }
 ],
 "metadata": {
  "kernelspec": {
   "display_name": "Python 3",
   "language": "python",
   "name": "python3"
  },
  "language_info": {
   "codemirror_mode": {
    "name": "ipython",
    "version": 3
   },
   "file_extension": ".py",
   "mimetype": "text/x-python",
   "name": "python",
   "nbconvert_exporter": "python",
   "pygments_lexer": "ipython3",
   "version": "3.9.13"
  }
 },
 "nbformat": 4,
 "nbformat_minor": 2
}
